{
 "cells": [
  {
   "cell_type": "markdown",
   "metadata": {},
   "source": [
    "# App Store and Google Play Store App Profitability\n",
    "\n",
    "## Analysis of mobile apps for App Store and Google Play Store\n"
   ]
  },
  {
   "cell_type": "markdown",
   "metadata": {},
   "source": [
    "<i>Kim Kirk <br> July 3, 2020</i>"
   ]
  },
  {
   "cell_type": "markdown",
   "metadata": {},
   "source": [
    "## Synopsis"
   ]
  },
  {
   "cell_type": "markdown",
   "metadata": {},
   "source": [
    "A descriptive multivariate data analysis was conducted on mobile apps data from the Apple Mobile App Store and Google Play Store. 10,000 Play Store apps and 7,200 Mobile App Store apps data sets from Kaggle were imported, cleaned, and analyzed. The profitability of Mobile Apps and Play Store apps were explored to identify which types of apps are likely to attract more users, this information is then used to inform app development within the company to reduce development risk."
   ]
  },
  {
   "cell_type": "markdown",
   "metadata": {},
   "source": [
    "### Data Processing"
   ]
  },
  {
   "cell_type": "markdown",
   "metadata": {},
   "source": [
    "Importing the iOS and Android apps data sets. Performing some exploratory data analysis by printing out contents of a few rows of each data set including number of rows and columns. Identifying useful fields in the dataset.\n",
    "\n"
   ]
  },
  {
   "cell_type": "code",
   "execution_count": 1,
   "metadata": {},
   "outputs": [
    {
     "name": "stdout",
     "output_type": "stream",
     "text": [
      "['id', 'track_name', 'size_bytes', 'currency', 'price', 'rating_count_tot', 'rating_count_ver', 'user_rating', 'user_rating_ver', 'ver', 'cont_rating', 'prime_genre', 'sup_devices.num', 'ipadSc_urls.num', 'lang.num', 'vpp_lic']\n",
      "\n",
      "\n",
      "['284882215', 'Facebook', '389879808', 'USD', '0.0', '2974676', '212', '3.5', '3.5', '95.0', '4+', 'Social Networking', '37', '1', '29', '1']\n",
      "\n",
      "\n",
      "['389801252', 'Instagram', '113954816', 'USD', '0.0', '2161558', '1289', '4.5', '4.0', '10.23', '12+', 'Photo & Video', '37', '0', '29', '1']\n",
      "\n",
      "\n",
      "['529479190', 'Clash of Clans', '116476928', 'USD', '0.0', '2130805', '579', '4.5', '4.5', '9.24.12', '9+', 'Games', '38', '5', '18', '1']\n",
      "\n",
      "\n",
      "Number of rows: 7198\n",
      "Number of columns: 16\n",
      "['App', 'Category', 'Rating', 'Reviews', 'Size', 'Installs', 'Type', 'Price', 'Content Rating', 'Genres', 'Last Updated', 'Current Ver', 'Android Ver']\n",
      "\n",
      "\n",
      "['Photo Editor & Candy Camera & Grid & ScrapBook', 'ART_AND_DESIGN', '4.1', '159', '19M', '10,000+', 'Free', '0', 'Everyone', 'Art & Design', 'January 7, 2018', '1.0.0', '4.0.3 and up']\n",
      "\n",
      "\n",
      "['Coloring book moana', 'ART_AND_DESIGN', '3.9', '967', '14M', '500,000+', 'Free', '0', 'Everyone', 'Art & Design;Pretend Play', 'January 15, 2018', '2.0.0', '4.0.3 and up']\n",
      "\n",
      "\n",
      "['U Launcher Lite – FREE Live Cool Themes, Hide Apps', 'ART_AND_DESIGN', '4.7', '87510', '8.7M', '5,000,000+', 'Free', '0', 'Everyone', 'Art & Design', 'August 1, 2018', '1.2.4', '4.0.3 and up']\n",
      "\n",
      "\n",
      "Number of rows: 10842\n",
      "Number of columns: 13\n",
      "\n",
      "\n",
      " iOS fields ['id', 'track_name', 'size_bytes', 'currency', 'price', 'rating_count_tot', 'rating_count_ver', 'user_rating', 'user_rating_ver', 'ver', 'cont_rating', 'prime_genre', 'sup_devices.num', 'ipadSc_urls.num', 'lang.num', 'vpp_lic']\n",
      "\n",
      "\n",
      " Android fields ['App', 'Category', 'Rating', 'Reviews', 'Size', 'Installs', 'Type', 'Price', 'Content Rating', 'Genres', 'Last Updated', 'Current Ver', 'Android Ver']\n"
     ]
    }
   ],
   "source": [
    "\n",
    "import csv\n",
    "\n",
    "opened_ios_file = open('AppleStore.csv')\n",
    "read_ios_file = csv.reader(opened_ios_file)\n",
    "ios_apps = list(read_ios_file)\n",
    "\n",
    "opened_goog_file = open('googleplaystore.csv')\n",
    "read_goog_file = csv.reader(opened_goog_file)\n",
    "goog_apps = list(read_goog_file)\n",
    "\n",
    "opened_ios_file.close()\n",
    "opened_goog_file.close()\n",
    "\n",
    "\n",
    "#this function provided by Dataquest.io developers\n",
    "def explore_data(dataset, start, end, rows_and_columns=False):\n",
    "    dataset_slice = dataset[start:end]    \n",
    "    for row in dataset_slice:\n",
    "        print(row)\n",
    "        print('\\n') # adds a new (empty) line after each row\n",
    "\n",
    "    if rows_and_columns:\n",
    "        print('Number of rows:', len(dataset))\n",
    "        print('Number of columns:', len(dataset[0]))\n",
    "\n",
    "explore_data(ios_apps, 0, 4, True)\n",
    "explore_data(goog_apps, 0, 4, True)\n",
    "\n",
    "print('\\n')\n",
    "print(\" iOS fields\", ios_apps[0])\n",
    "print('\\n')\n",
    "print(\" Android fields\", goog_apps[0])\n"
   ]
  },
  {
   "cell_type": "markdown",
   "metadata": {},
   "source": [
    "Documentation links to additional field descriptions\n",
    "[Android](https://www.kaggle.com/lava18/google-play-store-apps)\n",
    "[iOS](https://www.kaggle.com/ramamet4/app-store-apple-data-set-10k-apps?select=appleStore_description.csv)"
   ]
  },
  {
   "cell_type": "markdown",
   "metadata": {},
   "source": [
    "Cleaning the data. The Android apps data set has error in one of its rows: a \"CATEGORY\" value is missing. Removing the row with the error. A check is performed to ensure the row was properly deleted.\n",
    "\n"
   ]
  },
  {
   "cell_type": "code",
   "execution_count": 2,
   "metadata": {
    "scrolled": false
   },
   "outputs": [
    {
     "name": "stdout",
     "output_type": "stream",
     "text": [
      "['Life Made WI-Fi Touchscreen Photo Frame', '1.9', '19', '3.0M', '1,000+', 'Free', '0', 'Everyone', '', 'February 11, 2018', '1.0.19', '4.0 and up']\n"
     ]
    },
    {
     "data": {
      "text/plain": [
       "['osmino Wi-Fi: free WiFi',\n",
       " 'TOOLS',\n",
       " '4.2',\n",
       " '134203',\n",
       " '4.1M',\n",
       " '10,000,000+',\n",
       " 'Free',\n",
       " '0',\n",
       " 'Everyone',\n",
       " 'Tools',\n",
       " 'August 7, 2018',\n",
       " '6.06.14',\n",
       " '4.4 and up']"
      ]
     },
     "execution_count": 2,
     "metadata": {},
     "output_type": "execute_result"
    }
   ],
   "source": [
    "\n",
    "print(goog_apps[10473])\n",
    "\n",
    "del goog_apps[10473]\n",
    "\n",
    "goog_apps[10473]"
   ]
  },
  {
   "cell_type": "markdown",
   "metadata": {},
   "source": [
    "Checking for duplicate Android app names by printing out duplicate entries in the data."
   ]
  },
  {
   "cell_type": "code",
   "execution_count": 3,
   "metadata": {},
   "outputs": [
    {
     "name": "stdout",
     "output_type": "stream",
     "text": [
      "Number of duplicate apps: 1181\n",
      "\n",
      "\n",
      "Sample of names of duplicate apps: ['Quick PDF Scanner + OCR FREE', 'Box', 'Google My Business']\n",
      "\n",
      "\n",
      "Sample of duplicate entries: \n",
      "['Video Downloader', 'VIDEO_PLAYERS', '4.2', '59089', '5.4M', '10,000,000+', 'Free', '0', 'Everyone', 'Video Players & Editors', 'August 3, 2018', '1.0.8', '4.4 and up']\n",
      "['Video Downloader', 'VIDEO_PLAYERS', '4.2', '58981', '5.4M', '10,000,000+', 'Free', '0', 'Everyone', 'Video Players & Editors', 'August 3, 2018', '1.0.8', '4.4 and up']\n"
     ]
    }
   ],
   "source": [
    "\n",
    "duplicate_apps = []\n",
    "unique_apps = []\n",
    "\n",
    "for app in goog_apps:\n",
    "    name = app[0]\n",
    "    if name in unique_apps:\n",
    "        duplicate_apps.append(name)\n",
    "    else:\n",
    "        unique_apps.append(name)\n",
    "\n",
    "print('Number of duplicate apps:', len(duplicate_apps))\n",
    "print('\\n')\n",
    "print('Sample of names of duplicate apps:', duplicate_apps[0:3])\n",
    "print('\\n')\n",
    "print('Sample of duplicate entries: ')\n",
    "\n",
    "for app in goog_apps:\n",
    "    name = app[0]\n",
    "    if name == 'Video Downloader':\n",
    "        print(app)\n"
   ]
  },
  {
   "cell_type": "markdown",
   "metadata": {},
   "source": [
    "Duplicate entries will be removed using the criterion of entries with number of reviews lower than entry with highest number of reviews. "
   ]
  },
  {
   "cell_type": "markdown",
   "metadata": {},
   "source": [
    "Gathering the app name and highest review value from the Android apps data set. Creating a list with highest number of reviews for the corresponding Android app name. A check is performed at the end of the code block to ensure the length of new data set compared to expected length is correct.\n"
   ]
  },
  {
   "cell_type": "code",
   "execution_count": 4,
   "metadata": {},
   "outputs": [
    {
     "name": "stdout",
     "output_type": "stream",
     "text": [
      "Length of new data set same as expected length\n",
      "True\n"
     ]
    }
   ],
   "source": [
    "\n",
    "reviews_max = {}\n",
    "\n",
    "\n",
    "for app in goog_apps[1:]:\n",
    "    name = app[0]\n",
    "    n_reviews = float(app[3])\n",
    "    if name in reviews_max and reviews_max[name] < n_reviews:\n",
    "        reviews_max[name] = n_reviews\n",
    "    if name not in reviews_max:\n",
    "        reviews_max[name] = n_reviews\n",
    "\n",
    "print('Length of new data set same as expected length')\n",
    "print(len(reviews_max) == 9659)\n",
    "\n",
    "    "
   ]
  },
  {
   "cell_type": "markdown",
   "metadata": {},
   "source": [
    "Removing duplicate entries from the Android apps data set. Creating a new data set that has the Android app row for the highest reviews for the corresponding app. A check is performed at the end of the code block to ensure the length of new data set compared to expected length is correct, as well as to ensure the entire row was captured in the list."
   ]
  },
  {
   "cell_type": "code",
   "execution_count": 5,
   "metadata": {
    "scrolled": true
   },
   "outputs": [
    {
     "name": "stdout",
     "output_type": "stream",
     "text": [
      "Length of new data set same as expected length\n",
      "True\n",
      "\n",
      "\n",
      "Sample rows for Android data set\n",
      "[['Photo Editor & Candy Camera & Grid & ScrapBook', 'ART_AND_DESIGN', '4.1', '159', '19M', '10,000+', 'Free', '0', 'Everyone', 'Art & Design', 'January 7, 2018', '1.0.0', '4.0.3 and up'], ['U Launcher Lite – FREE Live Cool Themes, Hide Apps', 'ART_AND_DESIGN', '4.7', '87510', '8.7M', '5,000,000+', 'Free', '0', 'Everyone', 'Art & Design', 'August 1, 2018', '1.2.4', '4.0.3 and up']]\n"
     ]
    }
   ],
   "source": [
    "\n",
    "android_clean = []\n",
    "already_added = []\n",
    "\n",
    "for app in goog_apps[1:]:\n",
    "    name = app[0]\n",
    "    n_reviews = float(app[3])\n",
    "    if n_reviews == reviews_max[name] and name not in already_added:\n",
    "        android_clean.append(app)\n",
    "        already_added.append(name)\n",
    "        \n",
    "print('Length of new data set same as expected length')\n",
    "print(len(android_clean) == 9659)\n",
    "print('\\n')\n",
    "print('Sample rows for Android data set')\n",
    "print(android_clean[0:2])\n",
    "    "
   ]
  },
  {
   "cell_type": "markdown",
   "metadata": {},
   "source": [
    "Identifying iOS and Android apps directed to English-language audience. Creating a function that checks for common English characters in app's name. A check is performed to ensure the function's logic is accurate.\n"
   ]
  },
  {
   "cell_type": "code",
   "execution_count": 6,
   "metadata": {},
   "outputs": [
    {
     "name": "stdout",
     "output_type": "stream",
     "text": [
      "Check for function's logical accuracy\n",
      "True\n",
      "True\n",
      "True\n",
      "True\n",
      "True\n"
     ]
    }
   ],
   "source": [
    "\n",
    "def common_english_chars(a_string):\n",
    "    total_nonASCII_char = 0\n",
    "    for char in a_string:\n",
    "        if ord(char) > 127:\n",
    "            total_nonASCII_char += 1\n",
    "        if total_nonASCII_char > 3:\n",
    "            return False\n",
    "    return True\n",
    "\n",
    "print('Check for function\\'s logical accuracy')\n",
    "print(common_english_chars('Instagram') == True)\n",
    "print(common_english_chars('爱奇艺PPS -《欢乐颂2》电视剧热播') == False)\n",
    "print(common_english_chars('Docs To Go™ Free Office Suite') == True)\n",
    "print(common_english_chars('Instachat 😜') == True)\n",
    "print(common_english_chars('Turbo Dismount®') == True)"
   ]
  },
  {
   "cell_type": "markdown",
   "metadata": {},
   "source": [
    "Filtering out non-English apps from iOS and Android apps data sets. Creating a new data set that includes English-language apps only. A check is performed on the function to ensure the logic is accurate."
   ]
  },
  {
   "cell_type": "code",
   "execution_count": 45,
   "metadata": {
    "scrolled": true
   },
   "outputs": [
    {
     "name": "stdout",
     "output_type": "stream",
     "text": [
      "\n",
      "\n",
      "Check for English language apps only in iOS and Android data sets\n",
      "True\n",
      "True\n"
     ]
    }
   ],
   "source": [
    "def filter_english_apps(a_data_set):\n",
    "    updated_data_set = []\n",
    "    for app in a_data_set[1:]:\n",
    "        if a_data_set == ios_apps:\n",
    "            app_name = app[1]\n",
    "        else:\n",
    "            app_name = app[0]\n",
    "       \n",
    "        if common_english_chars(app_name) == True:\n",
    "            updated_data_set.append(app)\n",
    "            \n",
    "    return updated_data_set\n",
    "\n",
    "ios_data = filter_english_apps(ios_apps)\n",
    "android_data = filter_english_apps(android_clean)\n",
    "\n",
    "\n",
    "print('\\n')\n",
    "print('Check for English language apps only in iOS and Android data sets')\n",
    "for app in ios_data:\n",
    "    if 'LEGO® NEXO KNIGHTS™ : MERLOK 2.0' in app[1:2]:\n",
    "        print('True')\n",
    "    elif '搜狗输入法-Sogou Keyboard' in app[1:2]:\n",
    "        print('Non-English data in data set')\n",
    "\n",
    "for app in android_data:\n",
    "    if 'Wattpad 📖 Free Books' in app[0]:\n",
    "        print('True')\n",
    "    elif 'Flame - درب عقلك يوميا' in app[0]:\n",
    "        print('Non-English data in data set')\n",
    "    \n",
    "\n"
   ]
  },
  {
   "cell_type": "markdown",
   "metadata": {},
   "source": [
    "Exploring the new data sets to see how many rows remaining in each."
   ]
  },
  {
   "cell_type": "code",
   "execution_count": 8,
   "metadata": {},
   "outputs": [
    {
     "name": "stdout",
     "output_type": "stream",
     "text": [
      "iOS data has 6183 rows remaining\n",
      "Android data has 9613 rows remaining\n"
     ]
    }
   ],
   "source": [
    "print('iOS data has', len(ios_data), 'rows remaining')\n",
    "print('Android data has', len(android_data), 'rows remaining')"
   ]
  },
  {
   "cell_type": "markdown",
   "metadata": {},
   "source": [
    "Removing all paid iOS and Android apps. Creating a function that appends only free apps to final iOS and Android data sets. A check is performed to ensure paid apps have been removed."
   ]
  },
  {
   "cell_type": "code",
   "execution_count": 9,
   "metadata": {},
   "outputs": [
    {
     "name": "stdout",
     "output_type": "stream",
     "text": [
      "iOS sample row\n",
      "[['284882215', 'Facebook', '389879808', 'USD', '0.0', '2974676', '212', '3.5', '3.5', '95.0', '4+', 'Social Networking', '37', '1', '29', '1'], ['389801252', 'Instagram', '113954816', 'USD', '0.0', '2161558', '1289', '4.5', '4.0', '10.23', '12+', 'Photo & Video', '37', '0', '29', '1']]\n",
      "\n",
      "\n",
      "Android sample row\n",
      "[['U Launcher Lite – FREE Live Cool Themes, Hide Apps', 'ART_AND_DESIGN', '4.7', '87510', '8.7M', '5,000,000+', 'Free', '0', 'Everyone', 'Art & Design', 'August 1, 2018', '1.2.4', '4.0.3 and up'], ['Sketch - Draw & Paint', 'ART_AND_DESIGN', '4.5', '215644', '25M', '50,000,000+', 'Free', '0', 'Teen', 'Art & Design', 'June 8, 2018', 'Varies with device', '4.2 and up']]\n",
      "\n",
      "\n",
      "Check for paid apps in data set\n",
      "None in iOS data set\n",
      "None in Android data set\n"
     ]
    }
   ],
   "source": [
    "def free_english_apps(data_set):\n",
    "    free_apps_data_set = []\n",
    "    for row in data_set:\n",
    "        if data_set == ios_data:\n",
    "            price = row[4]\n",
    "        else:\n",
    "            price = row[7]\n",
    "        if price == '0' or price == '0.0':\n",
    "            free_apps_data_set.append(row)\n",
    "            \n",
    "    return free_apps_data_set\n",
    "\n",
    "ios_data_final = free_english_apps(ios_data)\n",
    "android_data_final = free_english_apps(android_data)\n",
    "\n",
    "print('iOS sample row')\n",
    "print(ios_data_final[0:2])\n",
    "print('\\n')\n",
    "print('Android sample row')\n",
    "print(android_data_final[0:2])\n",
    "\n",
    "def test_paid(a_final_data_set, index_position):\n",
    "    for app in a_final_data_set:\n",
    "        if '0.0' and '0' not in app[index_position]:\n",
    "            print('Paid app found')\n",
    "\n",
    "print('\\n')          \n",
    "print('Check for paid apps in data set')\n",
    "print(test_paid(ios_data_final, 4), 'in iOS data set')\n",
    "print(test_paid(android_data_final, 7), 'in Android data set')\n"
   ]
  },
  {
   "cell_type": "markdown",
   "metadata": {},
   "source": [
    "### Exploratory Data Analysis"
   ]
  },
  {
   "cell_type": "markdown",
   "metadata": {},
   "source": [
    "Exploring the final data sets to see how many rows remaining in each."
   ]
  },
  {
   "cell_type": "code",
   "execution_count": 10,
   "metadata": {
    "scrolled": true
   },
   "outputs": [
    {
     "name": "stdout",
     "output_type": "stream",
     "text": [
      "3222 apps in iOS data set\n",
      "8863 apps in Android data set\n"
     ]
    }
   ],
   "source": [
    "print(len(ios_data_final), 'apps in iOS data set')\n",
    "print(len(android_data_final), 'apps in Android data set')"
   ]
  },
  {
   "cell_type": "markdown",
   "metadata": {},
   "source": [
    "Analyzing the data sets. Identifying apps with profiles that are successful on both Apple Store and Google Play store markets to mitigate risk and overhead for our company's app development. "
   ]
  },
  {
   "cell_type": "markdown",
   "metadata": {},
   "source": [
    "Exploring fields in iOS and Android data sets to identify most common genres in each market. Creating sorted frequency tables for the genres to see what the most common genre is for each market. A check is performed to ensure function logic is working properly."
   ]
  },
  {
   "cell_type": "code",
   "execution_count": 55,
   "metadata": {
    "scrolled": false
   },
   "outputs": [
    {
     "name": "stdout",
     "output_type": "stream",
     "text": [
      "iOS field for genre data\n",
      "Social Networking  \"PRIME_GENRES\" field\n",
      "\n",
      "\n",
      "Android fields for genre data\n",
      "ART_AND_DESIGN  \"CATEGORY\" field\n",
      "Art & Design  \"GENRES\" field\n",
      "\n",
      "\n",
      "Check for empty frequency tables:\n",
      "False\n",
      "False\n",
      "False\n",
      "\n",
      "\n",
      "iOS most frequent genres for \"PRIME_GENRES\" field\n",
      "Games : 58.16263190564867\n",
      "Entertainment : 7.883302296710118\n",
      "Photo & Video : 4.9658597144630665\n",
      "Education : 3.662321539416512\n",
      "Social Networking : 3.2898820608317814\n",
      "Shopping : 2.60707635009311\n",
      "Utilities : 2.5139664804469275\n",
      "Sports : 2.1415270018621975\n",
      "Music : 2.0484171322160147\n",
      "Health & Fitness : 2.0173805090006205\n",
      "Productivity : 1.7380509000620732\n",
      "Lifestyle : 1.5828677839851024\n",
      "News : 1.3345747982619491\n",
      "Travel : 1.2414649286157666\n",
      "Finance : 1.1173184357541899\n",
      "Weather : 0.8690254500310366\n",
      "Food & Drink : 0.8069522036002483\n",
      "Reference : 0.5586592178770949\n",
      "Business : 0.5276225946617008\n",
      "Book : 0.4345127250155183\n",
      "Navigation : 0.186219739292365\n",
      "Medical : 0.186219739292365\n",
      "Catalogs : 0.12414649286157665\n",
      "\n",
      "\n",
      "Android most frequent genres for \"CATEGORY\" field\n",
      "FAMILY : 18.910075595170937\n",
      "GAME : 9.725826469592688\n",
      "TOOLS : 8.462146000225657\n",
      "BUSINESS : 4.592124562789123\n",
      "LIFESTYLE : 3.9038700214374367\n",
      "PRODUCTIVITY : 3.8925871601038025\n",
      "FINANCE : 3.7007785174320205\n",
      "MEDICAL : 3.5315355974275078\n",
      "SPORTS : 3.396141261423897\n",
      "PERSONALIZATION : 3.317161232088458\n",
      "COMMUNICATION : 3.2381812027530184\n",
      "HEALTH_AND_FITNESS : 3.0802211440821394\n",
      "PHOTOGRAPHY : 2.944826808078529\n",
      "NEWS_AND_MAGAZINES : 2.798149610741284\n",
      "SOCIAL : 2.6627552747376737\n",
      "TRAVEL_AND_LOCAL : 2.335552296062281\n",
      "SHOPPING : 2.245289405393208\n",
      "BOOKS_AND_REFERENCE : 2.1437436533904997\n",
      "DATING : 1.8616721200496444\n",
      "VIDEO_PLAYERS : 1.7939749520478394\n",
      "MAPS_AND_NAVIGATION : 1.399074805370642\n",
      "FOOD_AND_DRINK : 1.241114746699763\n",
      "EDUCATION : 1.1621347173643235\n",
      "ENTERTAINMENT : 0.9590432133589079\n",
      "LIBRARIES_AND_DEMO : 0.9364774906916393\n",
      "AUTO_AND_VEHICLES : 0.9251946293580051\n",
      "HOUSE_AND_HOME : 0.8236488773552973\n",
      "WEATHER : 0.8010831546880289\n",
      "EVENTS : 0.7108202640189552\n",
      "PARENTING : 0.6544059573507841\n",
      "ART_AND_DESIGN : 0.6318402346835158\n",
      "COMICS : 0.6205573733498815\n",
      "BEAUTY : 0.5979916506826132\n",
      "\n",
      "\n",
      "Android most frequent genres \"GENRES\" field\n",
      "Tools : 8.450863138892023\n",
      "Entertainment : 6.070179397495204\n",
      "Education : 5.348076272142616\n",
      "Business : 4.592124562789123\n",
      "Productivity : 3.8925871601038025\n",
      "Lifestyle : 3.8925871601038025\n",
      "Finance : 3.7007785174320205\n",
      "Medical : 3.5315355974275078\n",
      "Sports : 3.463838429425702\n",
      "Personalization : 3.317161232088458\n",
      "Communication : 3.2381812027530184\n",
      "Action : 3.102786866749408\n",
      "Health & Fitness : 3.0802211440821394\n",
      "Photography : 2.944826808078529\n",
      "News & Magazines : 2.798149610741284\n",
      "Social : 2.6627552747376737\n",
      "Travel & Local : 2.324269434728647\n",
      "Shopping : 2.245289405393208\n",
      "Books & Reference : 2.1437436533904997\n",
      "Simulation : 2.042197901387792\n",
      "Dating : 1.8616721200496444\n",
      "Arcade : 1.8503892587160102\n",
      "Video Players & Editors : 1.771409229380571\n",
      "Casual : 1.7601263680469368\n",
      "Maps & Navigation : 1.399074805370642\n",
      "Food & Drink : 1.241114746699763\n",
      "Puzzle : 1.128286133363421\n",
      "Racing : 0.9928917973598104\n",
      "Role Playing : 0.9364774906916393\n",
      "Libraries & Demo : 0.9364774906916393\n",
      "Auto & Vehicles : 0.9251946293580051\n",
      "Strategy : 0.9139117680243709\n",
      "House & Home : 0.8236488773552973\n",
      "Weather : 0.8010831546880289\n",
      "Events : 0.7108202640189552\n",
      "Adventure : 0.6769716800180525\n",
      "Comics : 0.6092745120162473\n",
      "Beauty : 0.5979916506826132\n",
      "Art & Design : 0.5867087893489789\n",
      "Parenting : 0.4964458986799052\n",
      "Card : 0.4513144533453684\n",
      "Casino : 0.42874873067809993\n",
      "Trivia : 0.4174658693444658\n",
      "Educational;Education : 0.3949001466771973\n",
      "Board : 0.38361728534356315\n",
      "Educational : 0.37233442400992894\n",
      "Education;Education : 0.33848584000902626\n",
      "Word : 0.25950581067358686\n",
      "Casual;Pretend Play : 0.2369400880063184\n",
      "Music : 0.20309150400541578\n",
      "Racing;Action & Adventure : 0.16924292000451313\n",
      "Puzzle;Brain Games : 0.16924292000451313\n",
      "Entertainment;Music & Video : 0.16924292000451313\n",
      "Casual;Brain Games : 0.1353943360036105\n",
      "Casual;Action & Adventure : 0.1353943360036105\n",
      "Arcade;Action & Adventure : 0.1241114746699763\n",
      "Action;Action & Adventure : 0.10154575200270789\n",
      "Educational;Pretend Play : 0.09026289066907367\n",
      "Simulation;Action & Adventure : 0.07898002933543948\n",
      "Parenting;Education : 0.07898002933543948\n",
      "Entertainment;Brain Games : 0.07898002933543948\n",
      "Board;Brain Games : 0.07898002933543948\n",
      "Parenting;Music & Video : 0.06769716800180525\n",
      "Educational;Brain Games : 0.06769716800180525\n",
      "Casual;Creativity : 0.06769716800180525\n",
      "Art & Design;Creativity : 0.06769716800180525\n",
      "Education;Pretend Play : 0.05641430666817105\n",
      "Role Playing;Pretend Play : 0.045131445334536835\n",
      "Education;Creativity : 0.045131445334536835\n",
      "Role Playing;Action & Adventure : 0.033848584000902626\n",
      "Puzzle;Action & Adventure : 0.033848584000902626\n",
      "Entertainment;Creativity : 0.033848584000902626\n",
      "Entertainment;Action & Adventure : 0.033848584000902626\n",
      "Educational;Creativity : 0.033848584000902626\n",
      "Educational;Action & Adventure : 0.033848584000902626\n",
      "Education;Music & Video : 0.033848584000902626\n",
      "Education;Brain Games : 0.033848584000902626\n",
      "Education;Action & Adventure : 0.033848584000902626\n",
      "Adventure;Action & Adventure : 0.033848584000902626\n",
      "Video Players & Editors;Music & Video : 0.022565722667268417\n",
      "Sports;Action & Adventure : 0.022565722667268417\n",
      "Simulation;Pretend Play : 0.022565722667268417\n",
      "Puzzle;Creativity : 0.022565722667268417\n",
      "Music;Music & Video : 0.022565722667268417\n",
      "Entertainment;Pretend Play : 0.022565722667268417\n",
      "Casual;Education : 0.022565722667268417\n",
      "Board;Action & Adventure : 0.022565722667268417\n",
      "Video Players & Editors;Creativity : 0.011282861333634209\n",
      "Trivia;Education : 0.011282861333634209\n",
      "Travel & Local;Action & Adventure : 0.011282861333634209\n",
      "Tools;Education : 0.011282861333634209\n",
      "Strategy;Education : 0.011282861333634209\n",
      "Strategy;Creativity : 0.011282861333634209\n",
      "Strategy;Action & Adventure : 0.011282861333634209\n",
      "Simulation;Education : 0.011282861333634209\n",
      "Role Playing;Brain Games : 0.011282861333634209\n",
      "Racing;Pretend Play : 0.011282861333634209\n",
      "Puzzle;Education : 0.011282861333634209\n",
      "Parenting;Brain Games : 0.011282861333634209\n",
      "Music & Audio;Music & Video : 0.011282861333634209\n",
      "Lifestyle;Pretend Play : 0.011282861333634209\n",
      "Lifestyle;Education : 0.011282861333634209\n",
      "Health & Fitness;Education : 0.011282861333634209\n",
      "Health & Fitness;Action & Adventure : 0.011282861333634209\n",
      "Entertainment;Education : 0.011282861333634209\n",
      "Communication;Creativity : 0.011282861333634209\n",
      "Comics;Creativity : 0.011282861333634209\n",
      "Casual;Music & Video : 0.011282861333634209\n",
      "Card;Action & Adventure : 0.011282861333634209\n",
      "Books & Reference;Education : 0.011282861333634209\n",
      "Art & Design;Pretend Play : 0.011282861333634209\n",
      "Art & Design;Action & Adventure : 0.011282861333634209\n",
      "Arcade;Pretend Play : 0.011282861333634209\n",
      "Adventure;Education : 0.011282861333634209\n",
      "\n",
      "\n"
     ]
    }
   ],
   "source": [
    "print('iOS field for genre data')\n",
    "print(ios_data_final[0][11], ' \"PRIME_GENRES\" field')\n",
    "print('\\n')\n",
    "print('Android fields for genre data')\n",
    "print(android_data_final[0][1], ' \"CATEGORY\" field')\n",
    "print(android_data_final[0][9], ' \"GENRES\" field')\n",
    "print('\\n')\n",
    "\n",
    "def freq_table(data_set, index):\n",
    "    genre_counting = {}\n",
    "    total_apps_count = 0\n",
    "    \n",
    "    for app in data_set:\n",
    "        genre = app[index]\n",
    "        if genre in genre_counting:\n",
    "            genre_counting[genre] += 1\n",
    "        else:\n",
    "            genre_counting[genre] = 1\n",
    "   \n",
    "    for count in genre_counting:\n",
    "        total_apps_count += genre_counting[count]\n",
    "      \n",
    "    for count in genre_counting:\n",
    "        genre_counting[count] = genre_counting[count]/total_apps_count  \n",
    "        genre_counting[count] *= 100\n",
    "        \n",
    "    return genre_counting\n",
    "\n",
    "print('Check for empty frequency tables:')\n",
    "print(freq_table(ios_data_final, 11).items() is None)\n",
    "print(freq_table(android_data_final, 1).items() is None)\n",
    "print(freq_table(android_data_final, 9).items() is None)\n",
    "print('\\n')\n",
    "\n",
    "#this function provided by dataquest.io developers\n",
    "def display_table(dataset, index):\n",
    "    table = freq_table(dataset, index)\n",
    "    table_display = []\n",
    "    for key in table:\n",
    "        key_val_as_tuple = (table[key], key)\n",
    "        table_display.append(key_val_as_tuple)\n",
    "\n",
    "    table_sorted = sorted(table_display, reverse = True)\n",
    "    for entry in table_sorted:\n",
    "        print(entry[1], ':', entry[0])\n",
    "\n",
    "print('iOS most frequent genres for \"PRIME_GENRES\" field')\n",
    "display_table(ios_data_final, 11)\n",
    "print('\\n')\n",
    "print('Android most frequent genres for \"CATEGORY\" field')\n",
    "display_table(android_data_final, 1)\n",
    "print('\\n')\n",
    "print('Android most frequent genres \"GENRES\" field')    \n",
    "display_table(android_data_final, 9)\n",
    "print('\\n')\n",
    "\n",
    "\n",
    "    \n"
   ]
  },
  {
   "cell_type": "markdown",
   "metadata": {},
   "source": [
    "Continuing to analyze iOS and Android apps genre data. Finding the most popular iOS apps by genre."
   ]
  },
  {
   "cell_type": "code",
   "execution_count": 36,
   "metadata": {
    "scrolled": true
   },
   "outputs": [
    {
     "name": "stdout",
     "output_type": "stream",
     "text": [
      "iOS apps:\n",
      "\n",
      "\n",
      "For genre: Book the average number of user ratings is:  39758.5\n",
      "For genre: Education the average number of user ratings is:  7004.0\n",
      "For genre: Reference the average number of user ratings is:  74942.1\n",
      "For genre: Social Networking the average number of user ratings is:  71548.3\n",
      "For genre: News the average number of user ratings is:  21248.0\n",
      "For genre: Photo & Video the average number of user ratings is:  28441.5\n",
      "For genre: Catalogs the average number of user ratings is:  4004.0\n",
      "For genre: Business the average number of user ratings is:  7491.1\n",
      "For genre: Productivity the average number of user ratings is:  21028.4\n",
      "For genre: Food & Drink the average number of user ratings is:  33333.9\n",
      "For genre: Health & Fitness the average number of user ratings is:  23298.0\n",
      "For genre: Finance the average number of user ratings is:  31467.9\n",
      "For genre: Sports the average number of user ratings is:  23008.9\n",
      "For genre: Lifestyle the average number of user ratings is:  16485.8\n",
      "For genre: Travel the average number of user ratings is:  28243.8\n",
      "For genre: Utilities the average number of user ratings is:  18684.5\n",
      "For genre: Navigation the average number of user ratings is:  86090.3\n",
      "For genre: Music the average number of user ratings is:  57326.5\n",
      "For genre: Games the average number of user ratings is:  22788.7\n",
      "For genre: Entertainment the average number of user ratings is:  14029.8\n",
      "For genre: Medical the average number of user ratings is:  612.0\n",
      "For genre: Weather the average number of user ratings is:  52279.9\n",
      "For genre: Shopping the average number of user ratings is:  26919.7\n"
     ]
    }
   ],
   "source": [
    "freq_table_ios_popular = freq_table(ios_data_final, 11)\n",
    "\n",
    "print('iOS apps:')\n",
    "print('\\n')\n",
    "for genre in freq_table_ios_popular:\n",
    "    total = 0\n",
    "    len_genre = 0\n",
    "    for app in ios_data_final:\n",
    "        genre_app = app[11]\n",
    "        if genre_app == genre:\n",
    "            user_rating = float(app[5])\n",
    "            total += user_rating\n",
    "            len_genre += 1\n",
    "    print('For genre:', genre, 'the average number of user ratings is: ', round(total/len_genre, 1))\n",
    "    \n",
    "\n",
    "            \n",
    "       \n"
   ]
  },
  {
   "cell_type": "markdown",
   "metadata": {},
   "source": [
    "Continuing to analyze iOS and Android apps genre data. Finding the most popular Android apps by genre by number average number of installs."
   ]
  },
  {
   "cell_type": "code",
   "execution_count": 44,
   "metadata": {
    "scrolled": true
   },
   "outputs": [
    {
     "name": "stdout",
     "output_type": "stream",
     "text": [
      "For genre: VIDEO_PLAYERS the average number of installs is:  24727872.5\n",
      "For genre: LIFESTYLE the average number of installs is:  1437816.3\n",
      "For genre: COMMUNICATION the average number of installs is:  38456119.2\n",
      "For genre: HOUSE_AND_HOME the average number of installs is:  1331540.6\n",
      "For genre: MEDICAL the average number of installs is:  120550.6\n",
      "For genre: TOOLS the average number of installs is:  10801391.3\n",
      "For genre: AUTO_AND_VEHICLES the average number of installs is:  647317.8\n",
      "For genre: ENTERTAINMENT the average number of installs is:  11640705.9\n",
      "For genre: TRAVEL_AND_LOCAL the average number of installs is:  13984077.7\n",
      "For genre: ART_AND_DESIGN the average number of installs is:  2021626.8\n",
      "For genre: EVENTS the average number of installs is:  253542.2\n",
      "For genre: LIBRARIES_AND_DEMO the average number of installs is:  638503.7\n",
      "For genre: HEALTH_AND_FITNESS the average number of installs is:  4188822.0\n",
      "For genre: PARENTING the average number of installs is:  542603.6\n",
      "For genre: SPORTS the average number of installs is:  3638640.1\n",
      "For genre: EDUCATION the average number of installs is:  1833495.1\n",
      "For genre: NEWS_AND_MAGAZINES the average number of installs is:  9549178.5\n",
      "For genre: FAMILY the average number of installs is:  3695641.8\n",
      "For genre: DATING the average number of installs is:  854028.8\n",
      "For genre: PERSONALIZATION the average number of installs is:  5201482.6\n",
      "For genre: SHOPPING the average number of installs is:  7036877.3\n",
      "For genre: FINANCE the average number of installs is:  1387692.5\n",
      "For genre: BUSINESS the average number of installs is:  1712290.1\n",
      "For genre: BOOKS_AND_REFERENCE the average number of installs is:  8767811.9\n",
      "For genre: PHOTOGRAPHY the average number of installs is:  17840110.4\n",
      "For genre: PRODUCTIVITY the average number of installs is:  16787331.3\n",
      "For genre: FOOD_AND_DRINK the average number of installs is:  1924897.7\n",
      "For genre: BEAUTY the average number of installs is:  513151.9\n",
      "For genre: GAME the average number of installs is:  15588015.6\n",
      "For genre: COMICS the average number of installs is:  817657.3\n",
      "For genre: SOCIAL the average number of installs is:  23253652.1\n",
      "For genre: WEATHER the average number of installs is:  5074486.2\n",
      "For genre: MAPS_AND_NAVIGATION the average number of installs is:  4056941.8\n"
     ]
    }
   ],
   "source": [
    "freq_table_android_popular = freq_table(android_data_final, 1)\n",
    "\n",
    "for genre in freq_table_android_popular:\n",
    "    total = 0\n",
    "    len_category = 0\n",
    "    for app in android_data_final:\n",
    "        category_app = app[1]\n",
    "        if category_app == genre:\n",
    "            num_installs = app[5]\n",
    "            if '+' in num_installs:\n",
    "                num_installs = num_installs.replace('+', '')\n",
    "            if ',' in num_installs:\n",
    "                num_installs = num_installs.replace(',', '')\n",
    "            num_installs = float(num_installs)\n",
    "            total += num_installs\n",
    "            len_category += 1\n",
    "    print('For genre:', genre, 'the average number of installs is: ', round(total/len_category, 1))\n",
    "    \n",
    "        \n",
    "        "
   ]
  },
  {
   "cell_type": "markdown",
   "metadata": {},
   "source": [
    "## Conclusion"
   ]
  },
  {
   "cell_type": "markdown",
   "metadata": {},
   "source": [
    "The iOS data show that the most common genre is \"Games\" and the second most common genre is \"Entertainment\". There is a significant drop in percentage between the most common genre and second most common genre. Most of the apps are designed for entertainment purposes (Games, Entertainment, Photo & Video). There are a large number of apps for \"Games\" genre but this does not necessarily mean that this genre has the most users; there could be other factors that contribute to the \"Games\" genre being most frequent in the App Store, such as apps with \"Games\" as their genre are easier to develop. \n",
    "\n",
    "The Android data show that \"Family\" and \"Tools\" are the most common genres. Comparing iOS data to Android data, we see that \"Games\" and \"Entertainment are also common genres. There are a large number of apps for \"Family\" and \"Tools\" but this does not necessarily mean that these genres have the most users; again there could be other factors that contribute to these two genres being most frequent in the Google Play store, such as these two genres are easier to develop. \n",
    "\n",
    "For iOS apps data, the highest average number of user ratings is 86,090.3 for Navigation genre. Followed by 74,942.1 for Reference genre and 71,548.3 for Social Networking genre. Suggesting that the top three most popular app genre for iOS app users is Navigation, Reference, and Social Networking apps. My recommendation is to focus on these three app genres for the iOS app development. \n",
    "\n",
    "For Android apps data, the highest average number of user installs is 24,727,872.5 for Video Players genre. Followed by 23,253,652.1 for Social genre and 17,840,110.4 for Photography genre. Suggesting that the top three most popular app genre for installs for Android app users is Video Players, Social, and Photography apps. My recommendation is to focus on these three app genres for the Android app development. "
   ]
  }
 ],
 "metadata": {
  "kernelspec": {
   "display_name": "Python 3",
   "language": "python",
   "name": "python3"
  },
  "language_info": {
   "codemirror_mode": {
    "name": "ipython",
    "version": 3
   },
   "file_extension": ".py",
   "mimetype": "text/x-python",
   "name": "python",
   "nbconvert_exporter": "python",
   "pygments_lexer": "ipython3",
   "version": "3.7.6"
  }
 },
 "nbformat": 4,
 "nbformat_minor": 2
}
